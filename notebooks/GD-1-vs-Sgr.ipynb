{
 "cells": [
  {
   "cell_type": "code",
   "execution_count": null,
   "metadata": {},
   "outputs": [],
   "source": [
    "# Third-party\n",
    "from astropy.table import Table\n",
    "import astropy.units as u\n",
    "import matplotlib.pyplot as plt\n",
    "import numpy as np\n",
    "%matplotlib inline\n",
    "\n",
    "# Custom\n",
    "import gala.coordinates as gc\n",
    "import gala.dynamics as gd\n",
    "import gala.integrate as gi\n",
    "import gala.potential as gp\n",
    "from gala.units import galactic\n",
    "\n",
    "from gala.dynamics import mockstream as ms\n",
    "from pyia import GaiaData"
   ]
  },
  {
   "cell_type": "markdown",
   "metadata": {},
   "source": [
    "For plotting data:"
   ]
  },
  {
   "cell_type": "code",
   "execution_count": null,
   "metadata": {},
   "outputs": [],
   "source": [
    "tbl = Table.read('../../gd1-dr2/output/rrl_bhb_bs_rgb_master.fits')\n",
    "\n",
    "g = GaiaData(tbl)\n",
    "\n",
    "rv = tbl['rv'].copy()\n",
    "rv[~np.isfinite(rv)] = 0.\n",
    "\n",
    "c = coord.SkyCoord(ra=tbl['ra']*u.deg, \n",
    "                   dec=tbl['dec']*u.deg,\n",
    "                   distance=coord.Distance(distmod=tbl['DM']),\n",
    "                   pm_ra_cosdec=tbl['pmra']*u.mas/u.yr,\n",
    "                   pm_dec=tbl['pmdec']*u.mas/u.yr,\n",
    "                   radial_velocity=rv*u.km/u.s)\n",
    "c_gd1 = c.transform_to(gc.GD1)\n",
    "\n",
    "# Only take stars with phi1 > -80\n",
    "phi1_mask = c_gd1.phi1.wrap_at(180*u.deg) > -80*u.deg\n",
    "c_gd1 = c_gd1[phi1_mask]\n",
    "c = c[phi1_mask]\n",
    "g = g[phi1_mask]\n",
    "rv = rv[phi1_mask]\n",
    "tbl = tbl[phi1_mask]\n",
    "\n",
    "dist = coord.Distance(distmod=np.random.normal(tbl['DM'], tbl['DM_error'], \n",
    "                                               size=(10000, len(tbl))))"
   ]
  },
  {
   "cell_type": "code",
   "execution_count": null,
   "metadata": {},
   "outputs": [],
   "source": [
    "data = Table()\n",
    "data['phi1'] = c_gd1.phi1.wrap_at(180*u.deg)\n",
    "data['phi2'] = c_gd1.phi2\n",
    "data['distance'] = np.nanmean(dist, axis=0).to(u.kpc)\n",
    "data['pm_phi1_cosphi2'] = c_gd1.pm_phi1_cosphi2\n",
    "data['pm_phi2'] = c_gd1.pm_phi2\n",
    "data['radial_velocity'] = tbl['rv'] * u.km/u.s\n",
    "data = data.filled(fill_value=0)"
   ]
  },
  {
   "cell_type": "markdown",
   "metadata": {},
   "source": [
    "---"
   ]
  },
  {
   "cell_type": "code",
   "execution_count": null,
   "metadata": {},
   "outputs": [],
   "source": [
    "galcen_frame = coord.Galactocentric(galcen_distance=8.1*u.kpc)"
   ]
  },
  {
   "cell_type": "code",
   "execution_count": null,
   "metadata": {},
   "outputs": [],
   "source": [
    "# mw = gp.MilkyWayPotential()\n",
    "# H = gp.Hamiltonian(mw)\n",
    "\n",
    "pot = gp.CCompositePotential()\n",
    "pot['disk'] = gp.MiyamotoNagaiPotential(**{'a': 3.0, 'b': 0.28, 'm': 128682847895.60304}, units=galactic)\n",
    "pot['halo'] = gp.NFWPotential(**{'a': 1.0, 'b': 1, 'c': 1.45342154251265,\n",
    "                                 'm': 601303614092.3599, 'r_s': 16.013386267833617},\n",
    "                              units=galactic)\n",
    "H = gp.Hamiltonian(pot)"
   ]
  },
  {
   "cell_type": "code",
   "execution_count": null,
   "metadata": {},
   "outputs": [],
   "source": [
    "prog_w0 = gd.PhaseSpacePosition([15., 0, 0]*u.kpc,\n",
    "                                [0, 180, 0.]*u.km/u.s)\n",
    "prog_mass = 1e4 * u.Msun\n",
    "prog_pot = gp.PlummerPotential(prog_mass, b=2*u.pc, units=galactic)"
   ]
  },
  {
   "cell_type": "code",
   "execution_count": null,
   "metadata": {},
   "outputs": [],
   "source": [
    "c = gc.GD1Koposov10(**{'phi2': 0.12716889157882055*u.deg,\n",
    "                       'distance': 8.81723527532562*u.kpc,\n",
    "                       'pm_phi1_cosphi2': -11.576122612503559*u.mas/u.yr,\n",
    "                       'pm_phi2': -2.5105753010704452*u.mas/u.yr,\n",
    "                       'radial_velocity': -162.1453863232979*u.km/u.s},\n",
    "                    phi1=-20*u.deg)\n",
    "w0 = gd.PhaseSpacePosition(c.transform_to(galcen_frame).cartesian)"
   ]
  },
  {
   "cell_type": "code",
   "execution_count": null,
   "metadata": {},
   "outputs": [],
   "source": [
    "# gen = ms.MockStreamGenerator(df, H)"
   ]
  },
  {
   "cell_type": "code",
   "execution_count": null,
   "metadata": {},
   "outputs": [],
   "source": [
    "def make_five_panel(stream_c):\n",
    "    fig, axes = plt.subplots(5, 1, figsize=(8, 12), \n",
    "                             sharex=True)\n",
    "\n",
    "    for i, name in enumerate(['phi2', 'distance', 'pm_phi1_cosphi2', 'pm_phi2', 'radial_velocity']):\n",
    "        ax = axes[i]\n",
    "\n",
    "        ax.plot(data['phi1'], data[name], \n",
    "                marker='o', ls='none', color='tab:blue', ms=2)\n",
    "\n",
    "        ax.plot(stream_c.phi1.wrap_at(180*u.deg).degree,\n",
    "                getattr(stream_c, name).value, \n",
    "                marker='o', ls='none', color='k', ms=2.5, alpha=0.3, zorder=-100)\n",
    "        ax.set_ylabel(name, fontsize=12)\n",
    "\n",
    "    ax.set_xlim(-100, 20)\n",
    "    axes[0].set_ylim(-10, 5)\n",
    "    axes[1].set_ylim(5, 15)\n",
    "\n",
    "    fig.set_facecolor('w')\n",
    "    return fig"
   ]
  },
  {
   "cell_type": "code",
   "execution_count": null,
   "metadata": {
    "scrolled": false
   },
   "outputs": [],
   "source": [
    "for dist in np.arange(24., 26+1e-3, 0.1):\n",
    "    for sag_m in np.exp(np.linspace(np.log(2), np.log(60)+1e-3, 9)) * 1e9:\n",
    "        sag_c = coord.SkyCoord(ra=283.8313*u.deg, dec=-30.5453*u.deg,\n",
    "                               distance=dist*u.kpc, \n",
    "                               pm_ra_cosdec=-2.692*u.mas/u.yr,\n",
    "                               pm_dec=-1.359*u.mas/u.yr,\n",
    "                               radial_velocity=142.6*u.km/u.s)\n",
    "        sag_w0 = gd.PhaseSpacePosition(sag_c.transform_to(galcen_frame).data)\n",
    "        nbody = gd.DirectNBody(sag_w0, \n",
    "                               particle_potentials=[gp.HernquistPotential(m=sag_m, c=2.5*u.kpc, units=galactic)], \n",
    "                               external_potential=H.potential, frame=H.frame)\n",
    "        \n",
    "        df = ms.FardalStreamDF(random_state=np.random.RandomState(42))\n",
    "        gen = ms.MockStreamGenerator(df, H, progenitor_potential=prog_pot)\n",
    "        stream, _ = gen.run(w0, prog_mass, dt=-1, n_steps=4000, \n",
    "                            nbody=nbody, release_every=4)\n",
    "\n",
    "        # fig = stream.plot(color='k', alpha=0.1, lw=0)\n",
    "        # fig.set_facecolor('w')\n",
    "        # for ax in fig.axes:\n",
    "        #     ax.set_xlim(-25, 25)\n",
    "        #     ax.set_ylim(-25, 25)\n",
    "        # fig.savefig('../plots/xyz_dist{:.1f}_sag{:.1f}e9.png'.format(dist, sag_m/1e9), dpi=200)\n",
    "        # plt.close(fig)\n",
    "    \n",
    "        stream_c = stream.to_coord_frame(gc.GD1Koposov10, galcen_frame)\n",
    "        fig = make_five_panel(stream_c)\n",
    "        fig.savefig('../plots/obs_dist{:.1f}_sag{:.1f}e9.png'.format(dist, sag_m/1e9), dpi=200)\n",
    "        plt.close(fig)"
   ]
  },
  {
   "cell_type": "code",
   "execution_count": null,
   "metadata": {},
   "outputs": [],
   "source": []
  }
 ],
 "metadata": {
  "kernelspec": {
   "display_name": "Python [default]",
   "language": "python",
   "name": "python3"
  },
  "language_info": {
   "codemirror_mode": {
    "name": "ipython",
    "version": 3
   },
   "file_extension": ".py",
   "mimetype": "text/x-python",
   "name": "python",
   "nbconvert_exporter": "python",
   "pygments_lexer": "ipython3",
   "version": "3.6.8"
  }
 },
 "nbformat": 4,
 "nbformat_minor": 2
}